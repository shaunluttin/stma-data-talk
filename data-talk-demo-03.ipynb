{
 "cells": [
  {
   "cell_type": "markdown",
   "metadata": {},
   "source": [
    "# Hello MBA 540\n",
    "\n",
    "This is a Jupyter Notebook running Python.\n",
    "\n",
    "In our first demo, we output the Corporate Knights Top 100.\n",
    "\n",
    "The code below is Python, which queries the web page, finds the table, and outputs it to screen."
   ]
  },
  {
   "cell_type": "code",
   "execution_count": 4,
   "metadata": {},
   "outputs": [],
   "source": [
    "import requests\n",
    "import pandas\n",
    "\n",
    "# Now we wrap this in a function called importDataIntoExistingExcelFile().\n",
    "def importDataIntoExistingExcelFile(url, excelFileName, sheetName):\n",
    "    response = requests.get(url);\n",
    "    htmlText = response.text;\n",
    "    tables = pandas.read_html(str(htmlText))\n",
    "    targetData = tables[0].iloc[:, 0:13]\n",
    "    with pandas.ExcelWriter(excelFileName, engine='openpyxl', mode='a') as writer:\n",
    "        targetData.to_excel(writer, sheet_name=sheetName, index=False)\n",
    "\n",
    "# Now we can call this function with the URL, the Excel file name, and the sheet name.\n",
    "importDataIntoExistingExcelFile('https://www.corporateknights.com/issues/2025-01-global-100-issue/100-most-sustainable-companies-still-betting-greener-world/', 'demo-01.xlsx', '2025')\n",
    "importDataIntoExistingExcelFile('https://www.corporateknights.com/rankings/global-100-rankings/2024-global-100-rankings/the-20th-annual-global-100/', 'demo-01.xlsx', '2024')\n",
    "importDataIntoExistingExcelFile('https://www.corporateknights.com/rankings/global-100-rankings/2023-global-100-rankings/2023-global-100-most-sustainable-companies/', 'demo-01.xlsx', '2023')\n",
    "importDataIntoExistingExcelFile('https://www.corporateknights.com/rankings/global-100-rankings/2022-global-100-rankings/100-most-sustainable-corporations-of-2022/', 'demo-01.xlsx', '2022')\n"
   ]
  }
 ],
 "metadata": {
  "kernelspec": {
   "display_name": "Python 3",
   "language": "python",
   "name": "python3"
  },
  "language_info": {
   "codemirror_mode": {
    "name": "ipython",
    "version": 3
   },
   "file_extension": ".py",
   "mimetype": "text/x-python",
   "name": "python",
   "nbconvert_exporter": "python",
   "pygments_lexer": "ipython3",
   "version": "3.8.3"
  }
 },
 "nbformat": 4,
 "nbformat_minor": 2
}
