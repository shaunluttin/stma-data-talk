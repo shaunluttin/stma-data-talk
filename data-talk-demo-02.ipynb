{
 "cells": [
  {
   "cell_type": "markdown",
   "metadata": {},
   "source": [
    "# Hello MBA 540\n",
    "\n",
    "This is a Jupyter Notebook running Python.\n",
    "\n",
    "In our first demo, we output the Corporate Knights Top 100.\n",
    "\n",
    "The code below is Python, which queries the web page, finds the table, and outputs it to screen."
   ]
  },
  {
   "cell_type": "code",
   "execution_count": 4,
   "metadata": {},
   "outputs": [],
   "source": [
    "# First we import the request module.\n",
    "# A module is a piece of software that we can use with Python. \n",
    "# Just like you can use Google Chrome with a mouse and keyboard, you can use the requests module with Python.\n",
    "import requests\n",
    "\n",
    "# Next we import the pandas module.\n",
    "# The pandas module allows us to work with data.\n",
    "# Just like you can use Microsoft Excel with a mouse and keyboard, you can use the pandas module with Python.\n",
    "import pandas\n",
    "\n",
    "# Now we create a variable to store the address of the webpage that we want to access.\n",
    "# This is the same webpage address that we would put into the Chrome address bar.\n",
    "url = 'https://www.corporateknights.com/issues/2025-01-global-100-issue/100-most-sustainable-companies-still-betting-greener-world/'\n",
    "\n",
    "# Next we pass that addres to the requests.get() function.\n",
    "# This is the same as passing the address to the Chrome address bar and pressing enter.\n",
    "response = requests.get(url);\n",
    "\n",
    "# We now store that text in a variable called \"html\".\n",
    "htmlText = response.text;\n",
    "\n",
    "# Here we read the html text into the Pandas system.\n",
    "# This is similar to opening a file in Excel.\n",
    "tables = pandas.read_html(str(htmlText))\n",
    "\n",
    "## Target data to import into Excel.\n",
    "targetData = tables[0].iloc[:, 0:13]\n",
    "\n",
    "# Append it as a new sheet to an existing Excel file.\n",
    "with pandas.ExcelWriter('demo-01.xlsx', engine='openpyxl', mode='a') as writer:\n",
    "    targetData.to_excel(writer, sheet_name=\"Corporate Knights 2025\")\n"
   ]
  }
 ],
 "metadata": {
  "kernelspec": {
   "display_name": "Python 3",
   "language": "python",
   "name": "python3"
  },
  "language_info": {
   "codemirror_mode": {
    "name": "ipython",
    "version": 3
   },
   "file_extension": ".py",
   "mimetype": "text/x-python",
   "name": "python",
   "nbconvert_exporter": "python",
   "pygments_lexer": "ipython3",
   "version": "3.8.3"
  }
 },
 "nbformat": 4,
 "nbformat_minor": 2
}
