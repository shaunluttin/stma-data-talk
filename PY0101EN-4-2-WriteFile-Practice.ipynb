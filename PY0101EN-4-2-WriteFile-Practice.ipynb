{
 "cells": [
  {
   "cell_type": "code",
   "execution_count": 19,
   "metadata": {},
   "outputs": [
    {
     "name": "stdout",
     "output_type": "stream",
     "text": [
      "write01\n",
      "\n",
      "write02\n",
      "\n"
     ]
    }
   ],
   "source": [
    "with open('example2.txt', 'w') as file:\n",
    "    file.write('write01\\n')\n",
    "    file.write('write02\\n')\n",
    "\n",
    "with open('example3.txt', 'w') as file:\n",
    "    lines = ['line01', 'line02', 'line03']\n",
    "    for line in lines:\n",
    "        file.write(line + '\\n')\n",
    "\n",
    "with open('example3.txt', 'a') as file:\n",
    "    file.write('line04\\n')\n",
    "\n",
    "with open('example2.txt', 'r') as source:\n",
    "    with open('destination.txt', 'w') as dest:\n",
    "        for line in source:\n",
    "            dest.write(line)\n",
    "\n",
    "with open('destination.txt', 'r') as file:\n",
    "    for line in file:\n",
    "        print(line)"
   ]
  }
 ],
 "metadata": {
  "kernelspec": {
   "display_name": "Python 3",
   "language": "python",
   "name": "python3"
  },
  "language_info": {
   "codemirror_mode": {
    "name": "ipython",
    "version": 3
   },
   "file_extension": ".py",
   "mimetype": "text/x-python",
   "name": "python",
   "nbconvert_exporter": "python",
   "pygments_lexer": "ipython3",
   "version": "3.8.3"
  },
  "prev_pub_hash": "655b621b6e5114470ea7626e8512bba78e15820fa058079df5fbd6fdb891a9d9"
 },
 "nbformat": 4,
 "nbformat_minor": 4
}
