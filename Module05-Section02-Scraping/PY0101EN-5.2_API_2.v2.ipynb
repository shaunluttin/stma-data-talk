{
 "cells": [
  {
   "cell_type": "markdown",
   "id": "d673832d-40c8-46cb-9683-b1db250266e9",
   "metadata": {},
   "source": [
    "<center>\n",
    "    <img src=\"https://cf-courses-data.s3.us.cloud-object-storage.appdomain.cloud/assets/logos/SN_web_lightmode.png\" width=\"300\" alt=\"cognitiveclass.ai logo\">\n",
    "</center>\n",
    "\n",
    "# Hands-on Lab: API Examples\n",
    "## Random User and Fruityvice API Examples\n",
    "\n",
    "\n",
    "Estimated time needed: **30** minutes\n",
    "\n",
    "## Objectives\n",
    "\n",
    "After completing this lab you will be able to:\n",
    "\n",
    "*   Load and use RandomUser API, using `RandomUser()` Python library\n",
    "*   Load and use Fruityvice API, using `requests` Python library\n",
    "*   Load and use Open-Joke-API, using `requests` Python library\n",
    "\n"
   ]
  },
  {
   "cell_type": "markdown",
   "id": "eddbcea0-12ec-4e02-846a-0df784b7c08e",
   "metadata": {},
   "source": [
    "The purpose of this notebook is to provide more examples on how to use simple APIs. As you have already learned from previous videos and notebooks, API stands for Application Programming Interface and is a software intermediary that allows two applications to talk to each other. \n",
    "\n",
    "The advantages of using APIs:\n",
    " *   **Automation**. Less human effort is required and workflows can be easily updated to become faster and more      \n",
    "     productive.\n",
    " *   **Efficiency**. It allows to use the capabilities of one of the already developed APIs than to try to \n",
    "     independently implement some functionality from scratch.\n",
    " \n",
    "The disadvantage of using APIs:\n",
    " *   **Security**. If the API is poorly integrated, it means it will be vulnerable to attacks, resulting in data breeches or losses having financial or reputation implications.\n",
    "\n",
    "One of the applications we will use in this notebook is Random User Generator. RandomUser is an open-source, free API providing developers with randomly generated users to be used as placeholders for testing purposes. This makes the tool similar to Lorem Ipsum, but is a placeholder for people instead of text. The API can return multiple results, as well as specify generated user details such as gender, email, image, username, address, title, first and last name, and more. More information on [RandomUser](https://randomuser.me/documentation#intro) can be found here.\n",
    "\n",
    "Another example of simple API we will use in this notebook is Fruityvice application. The Fruityvice API web service which provides data for all kinds of fruit! You can use Fruityvice to find out interesting information about fruit and educate yourself. The web service is completely free to use and contribute to.\n"
   ]
  },
  {
   "cell_type": "markdown",
   "id": "d26aeb0e-45f6-47a9-a87d-5f992a240df7",
   "metadata": {},
   "source": [
    "## Example 1: RandomUser API\n",
    "Bellow are Get Methods parameters that we can generate. For more information on the parameters, please visit this [documentation](https://randomuser.me/documentation) page.\n"
   ]
  },
  {
   "cell_type": "markdown",
   "id": "65f143b3-c39e-41b3-9373-9cf3cabc28a8",
   "metadata": {},
   "source": [
    "## **Get Methods**\n",
    "\n",
    "- get_cell()\n",
    "- get_city()\n",
    "- get_dob()\n",
    "- get_email()\n",
    "- get_first_name()\n",
    "- get_full_name()\n",
    "- get_gender()\n",
    "- get_id()\n",
    "- get_id_number()\n",
    "- get_id_type()\n",
    "- get_info()\n",
    "- get_last_name()\n",
    "- get_login_md5()\n",
    "- get_login_salt()\n",
    "- get_login_sha1()\n",
    "- get_login_sha256()\n",
    "- get_nat()\n",
    "- get_password()\n",
    "- get_phone()\n",
    "- get_picture()\n",
    "- get_postcode()\n",
    "- get_registered()\n",
    "- get_state()\n",
    "- get_street()\n",
    "- get_username()\n",
    "- get_zipcode()\n"
   ]
  },
  {
   "cell_type": "markdown",
   "id": "05a0dbcb-3476-4668-a147-dfe09c7435fb",
   "metadata": {},
   "source": [
    "To start using the API you can install the `randomuser` library running the `pip install` command.\n"
   ]
  },
  {
   "cell_type": "code",
   "execution_count": 1,
   "id": "03dd3677-d35e-4846-85dc-ef2e9550d06e",
   "metadata": {},
   "outputs": [
    {
     "name": "stdout",
     "output_type": "stream",
     "text": [
      "Collecting randomuser\n",
      "  Downloading https://files.pythonhosted.org/packages/b3/98/6e2d0a77d8c420c0d9eba678868ff4978edfa0c78ae5a183efbf29819c5d/randomuser-1.6.tar.gz\n",
      "Installing collected packages: randomuser\n",
      "  Running setup.py install for randomuser: started\n",
      "    Running setup.py install for randomuser: finished with status 'done'\n",
      "Successfully installed randomuser-1.6\n",
      "Note: you may need to restart the kernel to use updated packages.\n"
     ]
    },
    {
     "name": "stderr",
     "output_type": "stream",
     "text": [
      "WARNING: You are using pip version 19.2.3, however version 25.0.1 is available.\n",
      "You should consider upgrading via the 'python -m pip install --upgrade pip' command.\n"
     ]
    }
   ],
   "source": [
    "%pip install randomuser"
   ]
  },
  {
   "cell_type": "markdown",
   "id": "d5cc2fd3-665a-4164-8356-4304ae173001",
   "metadata": {},
   "source": [
    "Then, we will load the necessary libraries.\n"
   ]
  },
  {
   "cell_type": "code",
   "execution_count": 2,
   "id": "eb68b72c-5144-4104-9ad1-940942b583f9",
   "metadata": {},
   "outputs": [],
   "source": [
    "from randomuser import RandomUser\n",
    "import pandas as pd"
   ]
  },
  {
   "cell_type": "markdown",
   "id": "9a733d33-7f47-41cc-a3b6-bd3299fa953c",
   "metadata": {},
   "source": [
    "First, we will create a random user object, r.\n"
   ]
  },
  {
   "cell_type": "code",
   "execution_count": 3,
   "id": "702ae6dc-25f5-491d-817a-e880a26d9277",
   "metadata": {},
   "outputs": [],
   "source": [
    "r = RandomUser()"
   ]
  },
  {
   "cell_type": "markdown",
   "id": "4dc3adf0-64cd-4103-8c0f-cd0461cc18fb",
   "metadata": {},
   "source": [
    "Then, using `generate_users()` function, we get a list of random 10 users.\n"
   ]
  },
  {
   "cell_type": "code",
   "execution_count": 4,
   "id": "7fb687bc-07f8-421e-8ac1-7ecc88116312",
   "metadata": {},
   "outputs": [],
   "source": [
    "some_list = r.generate_users(10)"
   ]
  },
  {
   "cell_type": "code",
   "execution_count": 5,
   "id": "87ba3f4a-a9ff-436d-91df-406802c0b645",
   "metadata": {},
   "outputs": [
    {
     "data": {
      "text/plain": [
       "[<randomuser.RandomUser at 0x2a75f5965e0>,\n",
       " <randomuser.RandomUser at 0x2a75f5962e0>,\n",
       " <randomuser.RandomUser at 0x2a75f596460>,\n",
       " <randomuser.RandomUser at 0x2a75f5964c0>,\n",
       " <randomuser.RandomUser at 0x2a75f596310>,\n",
       " <randomuser.RandomUser at 0x2a75f596580>,\n",
       " <randomuser.RandomUser at 0x2a75f596550>,\n",
       " <randomuser.RandomUser at 0x2a75f5963d0>,\n",
       " <randomuser.RandomUser at 0x2a75f596430>,\n",
       " <randomuser.RandomUser at 0x2a75f5965b0>]"
      ]
     },
     "execution_count": 5,
     "metadata": {},
     "output_type": "execute_result"
    }
   ],
   "source": [
    "some_list"
   ]
  },
  {
   "cell_type": "markdown",
   "id": "ce1a40c2-47ef-482d-81f3-842a4fa07d11",
   "metadata": {},
   "source": [
    "The **\"Get Methods\"** functions mentioned at the beginning of this notebook, can generate the required parameters to construct a dataset. For example, to get full name, we call `get_full_name()` function.\n"
   ]
  },
  {
   "cell_type": "code",
   "execution_count": 7,
   "id": "0ea13295-e923-4b5b-9647-cbe05f501821",
   "metadata": {},
   "outputs": [
    {
     "data": {
      "text/plain": [
       "'Elias Sakala'"
      ]
     },
     "execution_count": 7,
     "metadata": {},
     "output_type": "execute_result"
    }
   ],
   "source": [
    "name = r.get_full_name()\n",
    "name"
   ]
  },
  {
   "cell_type": "markdown",
   "id": "d22c29ec-fa87-4a7a-9e8a-8bfff09c7a8c",
   "metadata": {},
   "source": [
    "Let's say we only need 10 users with full names and their email addresses. We can write a \"for-loop\" to print these 10 users.\n"
   ]
  },
  {
   "cell_type": "code",
   "execution_count": 8,
   "id": "32d52bf2-b739-4622-babe-258644f70da8",
   "metadata": {},
   "outputs": [
    {
     "name": "stdout",
     "output_type": "stream",
     "text": [
      "Jonas Andersen   jonas.andersen@example.com\n",
      "Eeli Kyllonen   eeli.kyllonen@example.com\n",
      "Millie Wright   millie.wright@example.com\n",
      "Ashanti Wenting   ashanti.wenting@example.com\n",
      "Aliya Eikeland   aliya.eikeland@example.com\n",
      "Willard Coleman   willard.coleman@example.com\n",
      "Daniel Sandli   daniel.sandli@example.com\n",
      "Tom Steward   tom.steward@example.com\n",
      "Samira Francois   samira.francois@example.com\n",
      "Debora Robin   debora.robin@example.com\n"
     ]
    }
   ],
   "source": [
    "for user in some_list:\n",
    "    print (user.get_full_name(),\" \",user.get_email())"
   ]
  },
  {
   "cell_type": "markdown",
   "id": "da02b524-824b-4d10-98d9-88ff28d60b91",
   "metadata": {},
   "source": [
    "## Exercise 1\n",
    "In this Exercise, generate photos of the random 10 users.\n"
   ]
  },
  {
   "cell_type": "code",
   "execution_count": 9,
   "id": "185af63b-bd55-4d45-ae0f-cf03739c3cb4",
   "metadata": {},
   "outputs": [
    {
     "name": "stdout",
     "output_type": "stream",
     "text": [
      "https://randomuser.me/api/portraits/men/58.jpg\n",
      "https://randomuser.me/api/portraits/men/86.jpg\n",
      "https://randomuser.me/api/portraits/women/91.jpg\n",
      "https://randomuser.me/api/portraits/women/31.jpg\n",
      "https://randomuser.me/api/portraits/women/74.jpg\n",
      "https://randomuser.me/api/portraits/men/6.jpg\n",
      "https://randomuser.me/api/portraits/men/29.jpg\n",
      "https://randomuser.me/api/portraits/men/63.jpg\n",
      "https://randomuser.me/api/portraits/women/20.jpg\n",
      "https://randomuser.me/api/portraits/women/57.jpg\n"
     ]
    }
   ],
   "source": [
    "## Write your code here\n",
    "for user in some_list:\n",
    "    print(user.get_picture())\n"
   ]
  },
  {
   "cell_type": "markdown",
   "id": "c18e3695-5c47-4c51-b707-4771ca11ccaf",
   "metadata": {},
   "source": [
    "<details><summary>Click here for the solution</summary>\n",
    "\n",
    "```python\n",
    "for user in some_list:\n",
    "    print (user.get_picture())\n",
    "```\n",
    "\n",
    "</details>\n"
   ]
  },
  {
   "cell_type": "markdown",
   "id": "9d56ec89-0804-4747-9a3c-cd12590f0407",
   "metadata": {},
   "source": [
    "To generate a table with information about the users, we can write a function containing all desirable parameters. For example, name, gender, city, etc. The parameters will depend on the requirements of the test to be performed. We call the Get Methods, listed at the beginning of this notebook. Then, we return pandas dataframe with the users.\n"
   ]
  },
  {
   "cell_type": "code",
   "execution_count": 10,
   "id": "00221c66-9346-40ec-a093-18385112a0cd",
   "metadata": {},
   "outputs": [],
   "source": [
    "def get_users():\n",
    "    users =[]\n",
    "     \n",
    "    for user in RandomUser.generate_users(10):\n",
    "        users.append({\"Name\":user.get_full_name(),\"Gender\":user.get_gender(),\"City\":user.get_city(),\"State\":user.get_state(),\"Email\":user.get_email(), \"DOB\":user.get_dob(),\"Picture\":user.get_picture()})\n",
    "      \n",
    "    return pd.DataFrame(users)     "
   ]
  },
  {
   "cell_type": "code",
   "execution_count": 11,
   "id": "f247afd7-8264-4ba4-a897-3bb3406cd082",
   "metadata": {},
   "outputs": [
    {
     "data": {
      "text/html": [
       "<div>\n",
       "<style scoped>\n",
       "    .dataframe tbody tr th:only-of-type {\n",
       "        vertical-align: middle;\n",
       "    }\n",
       "\n",
       "    .dataframe tbody tr th {\n",
       "        vertical-align: top;\n",
       "    }\n",
       "\n",
       "    .dataframe thead th {\n",
       "        text-align: right;\n",
       "    }\n",
       "</style>\n",
       "<table border=\"1\" class=\"dataframe\">\n",
       "  <thead>\n",
       "    <tr style=\"text-align: right;\">\n",
       "      <th></th>\n",
       "      <th>Name</th>\n",
       "      <th>Gender</th>\n",
       "      <th>City</th>\n",
       "      <th>State</th>\n",
       "      <th>Email</th>\n",
       "      <th>DOB</th>\n",
       "      <th>Picture</th>\n",
       "    </tr>\n",
       "  </thead>\n",
       "  <tbody>\n",
       "    <tr>\n",
       "      <th>0</th>\n",
       "      <td>علیرضا پارسا</td>\n",
       "      <td>male</td>\n",
       "      <td>خمینی‌شهر</td>\n",
       "      <td>کرمان</td>\n",
       "      <td>aalyrd.prs@example.com</td>\n",
       "      <td>1986-10-25T13:27:03.773Z</td>\n",
       "      <td>https://randomuser.me/api/portraits/men/68.jpg</td>\n",
       "    </tr>\n",
       "    <tr>\n",
       "      <th>1</th>\n",
       "      <td>Madison Powell</td>\n",
       "      <td>female</td>\n",
       "      <td>Gladstone</td>\n",
       "      <td>Western Australia</td>\n",
       "      <td>madison.powell@example.com</td>\n",
       "      <td>1972-04-19T11:56:39.045Z</td>\n",
       "      <td>https://randomuser.me/api/portraits/women/86.jpg</td>\n",
       "    </tr>\n",
       "    <tr>\n",
       "      <th>2</th>\n",
       "      <td>Meral Bayındır</td>\n",
       "      <td>female</td>\n",
       "      <td>Mardin</td>\n",
       "      <td>Siirt</td>\n",
       "      <td>meral.bayindir@example.com</td>\n",
       "      <td>1947-08-04T18:06:54.238Z</td>\n",
       "      <td>https://randomuser.me/api/portraits/women/82.jpg</td>\n",
       "    </tr>\n",
       "    <tr>\n",
       "      <th>3</th>\n",
       "      <td>Sophia Schiffmann</td>\n",
       "      <td>female</td>\n",
       "      <td>Lassan</td>\n",
       "      <td>Bayern</td>\n",
       "      <td>sophia.schiffmann@example.com</td>\n",
       "      <td>1996-11-13T05:21:47.572Z</td>\n",
       "      <td>https://randomuser.me/api/portraits/women/12.jpg</td>\n",
       "    </tr>\n",
       "    <tr>\n",
       "      <th>4</th>\n",
       "      <td>Samuel Sanchez</td>\n",
       "      <td>male</td>\n",
       "      <td>Bilbao</td>\n",
       "      <td>Melilla</td>\n",
       "      <td>samuel.sanchez@example.com</td>\n",
       "      <td>1968-07-02T01:37:36.834Z</td>\n",
       "      <td>https://randomuser.me/api/portraits/men/17.jpg</td>\n",
       "    </tr>\n",
       "    <tr>\n",
       "      <th>5</th>\n",
       "      <td>Seyhan Duiveman</td>\n",
       "      <td>male</td>\n",
       "      <td>Kloosterzande</td>\n",
       "      <td>Flevoland</td>\n",
       "      <td>seyhan.duiveman@example.com</td>\n",
       "      <td>1961-06-06T04:25:12.099Z</td>\n",
       "      <td>https://randomuser.me/api/portraits/men/61.jpg</td>\n",
       "    </tr>\n",
       "    <tr>\n",
       "      <th>6</th>\n",
       "      <td>Orandino da Rocha</td>\n",
       "      <td>male</td>\n",
       "      <td>Osasco</td>\n",
       "      <td>Amapá</td>\n",
       "      <td>orandino.darocha@example.com</td>\n",
       "      <td>1980-05-10T15:08:35.135Z</td>\n",
       "      <td>https://randomuser.me/api/portraits/men/42.jpg</td>\n",
       "    </tr>\n",
       "    <tr>\n",
       "      <th>7</th>\n",
       "      <td>Enrique Jenkins</td>\n",
       "      <td>male</td>\n",
       "      <td>Jackson</td>\n",
       "      <td>Tennessee</td>\n",
       "      <td>enrique.jenkins@example.com</td>\n",
       "      <td>1990-12-02T11:19:45.022Z</td>\n",
       "      <td>https://randomuser.me/api/portraits/men/68.jpg</td>\n",
       "    </tr>\n",
       "    <tr>\n",
       "      <th>8</th>\n",
       "      <td>پوریا زارعی</td>\n",
       "      <td>male</td>\n",
       "      <td>مشهد</td>\n",
       "      <td>زنجان</td>\n",
       "      <td>pwry.zraay@example.com</td>\n",
       "      <td>1984-08-27T21:36:21.589Z</td>\n",
       "      <td>https://randomuser.me/api/portraits/men/78.jpg</td>\n",
       "    </tr>\n",
       "    <tr>\n",
       "      <th>9</th>\n",
       "      <td>Pamela Garcia</td>\n",
       "      <td>female</td>\n",
       "      <td>Townsville</td>\n",
       "      <td>South Australia</td>\n",
       "      <td>pamela.garcia@example.com</td>\n",
       "      <td>1987-02-25T11:07:09.206Z</td>\n",
       "      <td>https://randomuser.me/api/portraits/women/46.jpg</td>\n",
       "    </tr>\n",
       "  </tbody>\n",
       "</table>\n",
       "</div>"
      ],
      "text/plain": [
       "                Name  Gender           City              State  \\\n",
       "0       علیرضا پارسا    male      خمینی‌شهر              کرمان   \n",
       "1     Madison Powell  female      Gladstone  Western Australia   \n",
       "2     Meral Bayındır  female         Mardin              Siirt   \n",
       "3  Sophia Schiffmann  female         Lassan             Bayern   \n",
       "4     Samuel Sanchez    male         Bilbao            Melilla   \n",
       "5    Seyhan Duiveman    male  Kloosterzande          Flevoland   \n",
       "6  Orandino da Rocha    male         Osasco              Amapá   \n",
       "7    Enrique Jenkins    male        Jackson          Tennessee   \n",
       "8        پوریا زارعی    male           مشهد              زنجان   \n",
       "9      Pamela Garcia  female     Townsville    South Australia   \n",
       "\n",
       "                           Email                       DOB  \\\n",
       "0         aalyrd.prs@example.com  1986-10-25T13:27:03.773Z   \n",
       "1     madison.powell@example.com  1972-04-19T11:56:39.045Z   \n",
       "2     meral.bayindir@example.com  1947-08-04T18:06:54.238Z   \n",
       "3  sophia.schiffmann@example.com  1996-11-13T05:21:47.572Z   \n",
       "4     samuel.sanchez@example.com  1968-07-02T01:37:36.834Z   \n",
       "5    seyhan.duiveman@example.com  1961-06-06T04:25:12.099Z   \n",
       "6   orandino.darocha@example.com  1980-05-10T15:08:35.135Z   \n",
       "7    enrique.jenkins@example.com  1990-12-02T11:19:45.022Z   \n",
       "8         pwry.zraay@example.com  1984-08-27T21:36:21.589Z   \n",
       "9      pamela.garcia@example.com  1987-02-25T11:07:09.206Z   \n",
       "\n",
       "                                            Picture  \n",
       "0    https://randomuser.me/api/portraits/men/68.jpg  \n",
       "1  https://randomuser.me/api/portraits/women/86.jpg  \n",
       "2  https://randomuser.me/api/portraits/women/82.jpg  \n",
       "3  https://randomuser.me/api/portraits/women/12.jpg  \n",
       "4    https://randomuser.me/api/portraits/men/17.jpg  \n",
       "5    https://randomuser.me/api/portraits/men/61.jpg  \n",
       "6    https://randomuser.me/api/portraits/men/42.jpg  \n",
       "7    https://randomuser.me/api/portraits/men/68.jpg  \n",
       "8    https://randomuser.me/api/portraits/men/78.jpg  \n",
       "9  https://randomuser.me/api/portraits/women/46.jpg  "
      ]
     },
     "execution_count": 11,
     "metadata": {},
     "output_type": "execute_result"
    }
   ],
   "source": [
    "get_users()"
   ]
  },
  {
   "cell_type": "code",
   "execution_count": 12,
   "id": "6e86e087-1fea-48d7-9772-3fbbea86d783",
   "metadata": {},
   "outputs": [],
   "source": [
    "df1 = pd.DataFrame(get_users())  "
   ]
  },
  {
   "cell_type": "markdown",
   "id": "801f8632-b3b0-455e-ba23-bb56881ab28d",
   "metadata": {},
   "source": [
    "Now we have a *pandas* dataframe that can be used for any testing purposes that the tester might have.\n"
   ]
  },
  {
   "cell_type": "markdown",
   "id": "c142e473-8541-412d-97e9-fcf9137162c9",
   "metadata": {},
   "source": [
    "## Example 2: Fruityvice API\n",
    "\n",
    "Another, more common way to use APIs, is through `requests` library. The next lab, Requests and HTTP, will contain more information about requests.\n",
    "\n",
    "We will start by importing all required libraries.\n"
   ]
  },
  {
   "cell_type": "code",
   "execution_count": 13,
   "id": "0fab7231-1595-4987-9371-3f405be38bab",
   "metadata": {},
   "outputs": [],
   "source": [
    "import requests\n",
    "import json"
   ]
  },
  {
   "cell_type": "markdown",
   "id": "84aaa532-7396-4c8f-9a47-ca59fd1c163f",
   "metadata": {},
   "source": [
    "We will obtain the [fruityvice](https://www.fruityvice.com) API data using `requests.get(\"url\")` function. The data is in a json format.\n"
   ]
  },
  {
   "cell_type": "code",
   "execution_count": null,
   "id": "7053b9c6-62a0-41fd-9ec9-eb4b5d827adc",
   "metadata": {},
   "outputs": [
    {
     "data": {
      "text/plain": [
       "'[{\"name\":\"Persimmon\",\"id\":52,\"family\":\"Ebenaceae\",\"order\":\"Rosales\",\"genus\":\"Diospyros\",\"nutritions\"'"
      ]
     },
     "execution_count": 16,
     "metadata": {},
     "output_type": "execute_result"
    }
   ],
   "source": [
    "data = requests.get(\"https://fruityvice.com/api/fruit/all\")"
   ]
  },
  {
   "cell_type": "markdown",
   "id": "6052ec70-26d8-4353-ac80-a256ad0079fd",
   "metadata": {},
   "source": [
    "We will retrieve results using `json.loads()` function.\n"
   ]
  },
  {
   "cell_type": "code",
   "execution_count": 17,
   "id": "cf72f427-a3e7-4a26-a380-3cfa6f98d6cd",
   "metadata": {},
   "outputs": [],
   "source": [
    "results = json.loads(data.text)"
   ]
  },
  {
   "cell_type": "markdown",
   "id": "9428e0b5-4eac-4b55-80fa-352fbdfbd887",
   "metadata": {},
   "source": [
    "We will convert our json data into *pandas* data frame. \n"
   ]
  },
  {
   "cell_type": "code",
   "execution_count": null,
   "id": "95a814d1-d830-439f-85c8-a266ecacdf46",
   "metadata": {},
   "outputs": [],
   "source": [
    "pd.DataFrame(results)"
   ]
  },
  {
   "cell_type": "markdown",
   "id": "c42000a0-c4a4-414a-bb75-38eb4c582f7e",
   "metadata": {},
   "source": [
    "The result is in a nested json format. The 'nutrition' column contains multiple subcolumns, so the data needs to be 'flattened' or normalized.\n"
   ]
  },
  {
   "cell_type": "code",
   "execution_count": 19,
   "id": "9aee3a41-b079-4717-83b5-eacaec453d54",
   "metadata": {},
   "outputs": [],
   "source": [
    "df2 = pd.json_normalize(results)"
   ]
  },
  {
   "cell_type": "code",
   "execution_count": 23,
   "id": "f0c14769-091f-43c1-94b5-1b6453d0d239",
   "metadata": {},
   "outputs": [
    {
     "data": {
      "text/html": [
       "<div>\n",
       "<style scoped>\n",
       "    .dataframe tbody tr th:only-of-type {\n",
       "        vertical-align: middle;\n",
       "    }\n",
       "\n",
       "    .dataframe tbody tr th {\n",
       "        vertical-align: top;\n",
       "    }\n",
       "\n",
       "    .dataframe thead th {\n",
       "        text-align: right;\n",
       "    }\n",
       "</style>\n",
       "<table border=\"1\" class=\"dataframe\">\n",
       "  <thead>\n",
       "    <tr style=\"text-align: right;\">\n",
       "      <th></th>\n",
       "      <th>name</th>\n",
       "      <th>id</th>\n",
       "      <th>family</th>\n",
       "      <th>order</th>\n",
       "      <th>genus</th>\n",
       "      <th>nutritions.calories</th>\n",
       "      <th>nutritions.fat</th>\n",
       "      <th>nutritions.sugar</th>\n",
       "      <th>nutritions.carbohydrates</th>\n",
       "      <th>nutritions.protein</th>\n",
       "    </tr>\n",
       "  </thead>\n",
       "  <tbody>\n",
       "    <tr>\n",
       "      <th>0</th>\n",
       "      <td>Persimmon</td>\n",
       "      <td>52</td>\n",
       "      <td>Ebenaceae</td>\n",
       "      <td>Rosales</td>\n",
       "      <td>Diospyros</td>\n",
       "      <td>81</td>\n",
       "      <td>0.0</td>\n",
       "      <td>18.0</td>\n",
       "      <td>18.0</td>\n",
       "      <td>0.0</td>\n",
       "    </tr>\n",
       "    <tr>\n",
       "      <th>1</th>\n",
       "      <td>Strawberry</td>\n",
       "      <td>3</td>\n",
       "      <td>Rosaceae</td>\n",
       "      <td>Rosales</td>\n",
       "      <td>Fragaria</td>\n",
       "      <td>29</td>\n",
       "      <td>0.4</td>\n",
       "      <td>5.4</td>\n",
       "      <td>5.5</td>\n",
       "      <td>0.8</td>\n",
       "    </tr>\n",
       "    <tr>\n",
       "      <th>2</th>\n",
       "      <td>Banana</td>\n",
       "      <td>1</td>\n",
       "      <td>Musaceae</td>\n",
       "      <td>Zingiberales</td>\n",
       "      <td>Musa</td>\n",
       "      <td>96</td>\n",
       "      <td>0.2</td>\n",
       "      <td>17.2</td>\n",
       "      <td>22.0</td>\n",
       "      <td>1.0</td>\n",
       "    </tr>\n",
       "    <tr>\n",
       "      <th>3</th>\n",
       "      <td>Tomato</td>\n",
       "      <td>5</td>\n",
       "      <td>Solanaceae</td>\n",
       "      <td>Solanales</td>\n",
       "      <td>Solanum</td>\n",
       "      <td>74</td>\n",
       "      <td>0.2</td>\n",
       "      <td>2.6</td>\n",
       "      <td>3.9</td>\n",
       "      <td>0.9</td>\n",
       "    </tr>\n",
       "    <tr>\n",
       "      <th>4</th>\n",
       "      <td>Pear</td>\n",
       "      <td>4</td>\n",
       "      <td>Rosaceae</td>\n",
       "      <td>Rosales</td>\n",
       "      <td>Pyrus</td>\n",
       "      <td>57</td>\n",
       "      <td>0.1</td>\n",
       "      <td>10.0</td>\n",
       "      <td>15.0</td>\n",
       "      <td>0.4</td>\n",
       "    </tr>\n",
       "  </tbody>\n",
       "</table>\n",
       "</div>"
      ],
      "text/plain": [
       "         name  id      family         order      genus  nutritions.calories  \\\n",
       "0   Persimmon  52   Ebenaceae       Rosales  Diospyros                   81   \n",
       "1  Strawberry   3    Rosaceae       Rosales   Fragaria                   29   \n",
       "2      Banana   1    Musaceae  Zingiberales       Musa                   96   \n",
       "3      Tomato   5  Solanaceae     Solanales    Solanum                   74   \n",
       "4        Pear   4    Rosaceae       Rosales      Pyrus                   57   \n",
       "\n",
       "   nutritions.fat  nutritions.sugar  nutritions.carbohydrates  \\\n",
       "0             0.0              18.0                      18.0   \n",
       "1             0.4               5.4                       5.5   \n",
       "2             0.2              17.2                      22.0   \n",
       "3             0.2               2.6                       3.9   \n",
       "4             0.1              10.0                      15.0   \n",
       "\n",
       "   nutritions.protein  \n",
       "0                 0.0  \n",
       "1                 0.8  \n",
       "2                 1.0  \n",
       "3                 0.9  \n",
       "4                 0.4  "
      ]
     },
     "execution_count": 23,
     "metadata": {},
     "output_type": "execute_result"
    }
   ],
   "source": [
    "df2.head()"
   ]
  },
  {
   "cell_type": "markdown",
   "id": "bf762cc4-51a3-4531-8d0a-9af6a56c03f8",
   "metadata": {},
   "source": [
    "Let's see if we can extract some information from this dataframe. Perhaps, we need to know the family and genus of a cherry.\n"
   ]
  },
  {
   "cell_type": "code",
   "execution_count": 21,
   "id": "660d98e6-2e39-4529-9d4b-101a910e2c78",
   "metadata": {},
   "outputs": [
    {
     "data": {
      "text/plain": [
       "('Rosaceae', 'Prunus')"
      ]
     },
     "execution_count": 21,
     "metadata": {},
     "output_type": "execute_result"
    }
   ],
   "source": [
    "cherry = df2.loc[df2[\"name\"] == 'Cherry']\n",
    "(cherry.iloc[0]['family']) , (cherry.iloc[0]['genus'])"
   ]
  },
  {
   "cell_type": "markdown",
   "id": "602737fd-1d4f-4f55-abf6-82d1ef8d7e9d",
   "metadata": {},
   "source": [
    "## Exercise 2\n",
    "In this Exercise, find out how many calories are contained in a banana.\n"
   ]
  },
  {
   "cell_type": "code",
   "execution_count": 26,
   "id": "7d8fceb0-e213-499b-9911-38f84a27fa37",
   "metadata": {},
   "outputs": [
    {
     "data": {
      "text/plain": [
       "96"
      ]
     },
     "execution_count": 26,
     "metadata": {},
     "output_type": "execute_result"
    }
   ],
   "source": [
    "# Write your code here\n",
    "banana = df2.loc[df2[\"name\"] == 'Banana']\n",
    "banana.iloc[0]['nutritions.calories']\n"
   ]
  },
  {
   "cell_type": "markdown",
   "id": "322fe91e-b8b8-45cb-96cf-de985f2c28e3",
   "metadata": {},
   "source": [
    "<details><summary>Click here for the solution</summary>\n",
    "\n",
    "```python\n",
    "cal_banana = df2.loc[df2[\"name\"] == 'Banana']\n",
    "cal_banana.iloc[0]['nutritions.calories']\n",
    "```\n",
    "\n",
    "</details>\n"
   ]
  },
  {
   "cell_type": "markdown",
   "id": "edd4a007-06e0-40bf-9a55-98f8c7bf31c0",
   "metadata": {},
   "source": [
    "## Exercise 3\n",
    "\n",
    "This [page](https://mixedanalytics.com/blog/list-actually-free-open-no-auth-needed-apis/) contains a list of free public APIs for you to practice. Let us deal with the following example.\n",
    "\n",
    "#### Official Joke API \n",
    "This API returns random jokes from a database. The following URL can be used to retrieve 10 random jokes.\n",
    "\n",
    "https://official-joke-api.appspot.com/jokes/ten\n",
    "\n",
    "1. Using `requests.get(\"url\")` function, load the data from the URL.\n"
   ]
  },
  {
   "cell_type": "code",
   "execution_count": 31,
   "id": "a2cf8c3a-6d3b-4bc8-bb26-caa402e87e7d",
   "metadata": {},
   "outputs": [
    {
     "data": {
      "text/html": [
       "<div>\n",
       "<style scoped>\n",
       "    .dataframe tbody tr th:only-of-type {\n",
       "        vertical-align: middle;\n",
       "    }\n",
       "\n",
       "    .dataframe tbody tr th {\n",
       "        vertical-align: top;\n",
       "    }\n",
       "\n",
       "    .dataframe thead th {\n",
       "        text-align: right;\n",
       "    }\n",
       "</style>\n",
       "<table border=\"1\" class=\"dataframe\">\n",
       "  <thead>\n",
       "    <tr style=\"text-align: right;\">\n",
       "      <th></th>\n",
       "      <th>type</th>\n",
       "      <th>setup</th>\n",
       "      <th>punchline</th>\n",
       "      <th>id</th>\n",
       "    </tr>\n",
       "  </thead>\n",
       "  <tbody>\n",
       "    <tr>\n",
       "      <th>0</th>\n",
       "      <td>general</td>\n",
       "      <td>Why don't you find hippopotamuses hiding in tr...</td>\n",
       "      <td>They're really good at it.</td>\n",
       "      <td>180</td>\n",
       "    </tr>\n",
       "    <tr>\n",
       "      <th>1</th>\n",
       "      <td>general</td>\n",
       "      <td>What do you call a cow with two legs?</td>\n",
       "      <td>Lean beef.</td>\n",
       "      <td>196</td>\n",
       "    </tr>\n",
       "    <tr>\n",
       "      <th>2</th>\n",
       "      <td>general</td>\n",
       "      <td>What type of music do balloons hate?</td>\n",
       "      <td>Pop music!</td>\n",
       "      <td>261</td>\n",
       "    </tr>\n",
       "    <tr>\n",
       "      <th>3</th>\n",
       "      <td>general</td>\n",
       "      <td>Where was the Declaration of Independence signed?</td>\n",
       "      <td>At the bottom!</td>\n",
       "      <td>293</td>\n",
       "    </tr>\n",
       "    <tr>\n",
       "      <th>4</th>\n",
       "      <td>programming</td>\n",
       "      <td>There are 10 types of people in this world...</td>\n",
       "      <td>Those who understand binary and those who don't</td>\n",
       "      <td>28</td>\n",
       "    </tr>\n",
       "    <tr>\n",
       "      <th>5</th>\n",
       "      <td>programming</td>\n",
       "      <td>Why did the developer go broke buying Bitcoin?</td>\n",
       "      <td>He kept calling it bytecoin and didn't get any.</td>\n",
       "      <td>413</td>\n",
       "    </tr>\n",
       "    <tr>\n",
       "      <th>6</th>\n",
       "      <td>knock-knock</td>\n",
       "      <td>Knock knock. \\n Who's there? \\n Hatch. \\n Hatc...</td>\n",
       "      <td>Bless you!</td>\n",
       "      <td>60</td>\n",
       "    </tr>\n",
       "    <tr>\n",
       "      <th>7</th>\n",
       "      <td>general</td>\n",
       "      <td>Why do trees seem suspicious on sunny days?</td>\n",
       "      <td>Dunno, they're just a bit shady.</td>\n",
       "      <td>352</td>\n",
       "    </tr>\n",
       "    <tr>\n",
       "      <th>8</th>\n",
       "      <td>general</td>\n",
       "      <td>Why did the man run around his bed?</td>\n",
       "      <td>Because he was trying to catch up on his sleep!</td>\n",
       "      <td>329</td>\n",
       "    </tr>\n",
       "    <tr>\n",
       "      <th>9</th>\n",
       "      <td>general</td>\n",
       "      <td>Want to hear my pizza joke?</td>\n",
       "      <td>Never mind, it's too cheesy.</td>\n",
       "      <td>152</td>\n",
       "    </tr>\n",
       "  </tbody>\n",
       "</table>\n",
       "</div>"
      ],
      "text/plain": [
       "          type                                              setup  \\\n",
       "0      general  Why don't you find hippopotamuses hiding in tr...   \n",
       "1      general              What do you call a cow with two legs?   \n",
       "2      general               What type of music do balloons hate?   \n",
       "3      general  Where was the Declaration of Independence signed?   \n",
       "4  programming      There are 10 types of people in this world...   \n",
       "5  programming     Why did the developer go broke buying Bitcoin?   \n",
       "6  knock-knock  Knock knock. \\n Who's there? \\n Hatch. \\n Hatc...   \n",
       "7      general        Why do trees seem suspicious on sunny days?   \n",
       "8      general                Why did the man run around his bed?   \n",
       "9      general                        Want to hear my pizza joke?   \n",
       "\n",
       "                                         punchline   id  \n",
       "0                       They're really good at it.  180  \n",
       "1                                       Lean beef.  196  \n",
       "2                                       Pop music!  261  \n",
       "3                                  At the bottom!   293  \n",
       "4  Those who understand binary and those who don't   28  \n",
       "5  He kept calling it bytecoin and didn't get any.  413  \n",
       "6                                       Bless you!   60  \n",
       "7                 Dunno, they're just a bit shady.  352  \n",
       "8  Because he was trying to catch up on his sleep!  329  \n",
       "9                     Never mind, it's too cheesy.  152  "
      ]
     },
     "execution_count": 31,
     "metadata": {},
     "output_type": "execute_result"
    }
   ],
   "source": [
    "# Write your code here\n",
    "r=requests.get('https://official-joke-api.appspot.com/jokes/ten')\n",
    "r.headers['content-type']\n",
    "pd.DataFrame(r.json())\n"
   ]
  },
  {
   "cell_type": "markdown",
   "id": "e78e58bd-fabc-468a-aed5-8177ab4c3571",
   "metadata": {},
   "source": [
    "<details><summary>Click here for the solution</summary>\n",
    "\n",
    "```python\n",
    "data2 = requests.get(\"https://official-joke-api.appspot.com/jokes/ten\")\n",
    "```\n",
    "\n",
    "</details>\n"
   ]
  },
  {
   "cell_type": "markdown",
   "id": "f66559c1-3b10-4b47-b6fd-670873514837",
   "metadata": {},
   "source": [
    "2. Retrieve results using `json.loads()` function.\n"
   ]
  },
  {
   "cell_type": "code",
   "execution_count": 32,
   "id": "08da44dc-2543-4eb6-9d25-c4cdedc54848",
   "metadata": {},
   "outputs": [
    {
     "data": {
      "text/plain": [
       "[{'type': 'general',\n",
       "  'setup': \"Why don't you find hippopotamuses hiding in trees?\",\n",
       "  'punchline': \"They're really good at it.\",\n",
       "  'id': 180},\n",
       " {'type': 'general',\n",
       "  'setup': 'What do you call a cow with two legs?',\n",
       "  'punchline': 'Lean beef.',\n",
       "  'id': 196},\n",
       " {'type': 'general',\n",
       "  'setup': 'What type of music do balloons hate?',\n",
       "  'punchline': 'Pop music!',\n",
       "  'id': 261},\n",
       " {'type': 'general',\n",
       "  'setup': 'Where was the Declaration of Independence signed?',\n",
       "  'punchline': 'At the bottom! ',\n",
       "  'id': 293},\n",
       " {'type': 'programming',\n",
       "  'setup': 'There are 10 types of people in this world...',\n",
       "  'punchline': \"Those who understand binary and those who don't\",\n",
       "  'id': 28},\n",
       " {'type': 'programming',\n",
       "  'setup': 'Why did the developer go broke buying Bitcoin?',\n",
       "  'punchline': \"He kept calling it bytecoin and didn't get any.\",\n",
       "  'id': 413},\n",
       " {'type': 'knock-knock',\n",
       "  'setup': \"Knock knock. \\n Who's there? \\n Hatch. \\n Hatch who?\",\n",
       "  'punchline': 'Bless you!',\n",
       "  'id': 60},\n",
       " {'type': 'general',\n",
       "  'setup': 'Why do trees seem suspicious on sunny days?',\n",
       "  'punchline': \"Dunno, they're just a bit shady.\",\n",
       "  'id': 352},\n",
       " {'type': 'general',\n",
       "  'setup': 'Why did the man run around his bed?',\n",
       "  'punchline': 'Because he was trying to catch up on his sleep!',\n",
       "  'id': 329},\n",
       " {'type': 'general',\n",
       "  'setup': 'Want to hear my pizza joke?',\n",
       "  'punchline': \"Never mind, it's too cheesy.\",\n",
       "  'id': 152}]"
      ]
     },
     "execution_count": 32,
     "metadata": {},
     "output_type": "execute_result"
    }
   ],
   "source": [
    "# Write your code here\n",
    "json.loads(r.text)"
   ]
  },
  {
   "cell_type": "markdown",
   "id": "4062641e-2b8d-4a14-bfe7-d7dea2133187",
   "metadata": {},
   "source": [
    "<details><summary>Click here for the solution</summary>\n",
    "\n",
    "```python\n",
    "results2 = json.loads(data2.text)\n",
    "```\n",
    "\n",
    "</details>\n"
   ]
  },
  {
   "cell_type": "markdown",
   "id": "51f2a639-5e1c-4313-bbf7-ea9132ed6c07",
   "metadata": {},
   "source": [
    "3. Convert json data into *pandas* data frame. Drop the type and id columns.\n"
   ]
  },
  {
   "cell_type": "code",
   "execution_count": 38,
   "id": "568bda9e-5f41-4ac3-a203-480c91bbdf73",
   "metadata": {},
   "outputs": [
    {
     "data": {
      "text/html": [
       "<div>\n",
       "<style scoped>\n",
       "    .dataframe tbody tr th:only-of-type {\n",
       "        vertical-align: middle;\n",
       "    }\n",
       "\n",
       "    .dataframe tbody tr th {\n",
       "        vertical-align: top;\n",
       "    }\n",
       "\n",
       "    .dataframe thead th {\n",
       "        text-align: right;\n",
       "    }\n",
       "</style>\n",
       "<table border=\"1\" class=\"dataframe\">\n",
       "  <thead>\n",
       "    <tr style=\"text-align: right;\">\n",
       "      <th></th>\n",
       "      <th>setup</th>\n",
       "      <th>punchline</th>\n",
       "    </tr>\n",
       "  </thead>\n",
       "  <tbody>\n",
       "    <tr>\n",
       "      <th>0</th>\n",
       "      <td>Why don't you find hippopotamuses hiding in tr...</td>\n",
       "      <td>They're really good at it.</td>\n",
       "    </tr>\n",
       "    <tr>\n",
       "      <th>1</th>\n",
       "      <td>What do you call a cow with two legs?</td>\n",
       "      <td>Lean beef.</td>\n",
       "    </tr>\n",
       "    <tr>\n",
       "      <th>2</th>\n",
       "      <td>What type of music do balloons hate?</td>\n",
       "      <td>Pop music!</td>\n",
       "    </tr>\n",
       "    <tr>\n",
       "      <th>3</th>\n",
       "      <td>Where was the Declaration of Independence signed?</td>\n",
       "      <td>At the bottom!</td>\n",
       "    </tr>\n",
       "    <tr>\n",
       "      <th>4</th>\n",
       "      <td>There are 10 types of people in this world...</td>\n",
       "      <td>Those who understand binary and those who don't</td>\n",
       "    </tr>\n",
       "    <tr>\n",
       "      <th>5</th>\n",
       "      <td>Why did the developer go broke buying Bitcoin?</td>\n",
       "      <td>He kept calling it bytecoin and didn't get any.</td>\n",
       "    </tr>\n",
       "    <tr>\n",
       "      <th>6</th>\n",
       "      <td>Knock knock. \\n Who's there? \\n Hatch. \\n Hatc...</td>\n",
       "      <td>Bless you!</td>\n",
       "    </tr>\n",
       "    <tr>\n",
       "      <th>7</th>\n",
       "      <td>Why do trees seem suspicious on sunny days?</td>\n",
       "      <td>Dunno, they're just a bit shady.</td>\n",
       "    </tr>\n",
       "    <tr>\n",
       "      <th>8</th>\n",
       "      <td>Why did the man run around his bed?</td>\n",
       "      <td>Because he was trying to catch up on his sleep!</td>\n",
       "    </tr>\n",
       "    <tr>\n",
       "      <th>9</th>\n",
       "      <td>Want to hear my pizza joke?</td>\n",
       "      <td>Never mind, it's too cheesy.</td>\n",
       "    </tr>\n",
       "  </tbody>\n",
       "</table>\n",
       "</div>"
      ],
      "text/plain": [
       "                                               setup  \\\n",
       "0  Why don't you find hippopotamuses hiding in tr...   \n",
       "1              What do you call a cow with two legs?   \n",
       "2               What type of music do balloons hate?   \n",
       "3  Where was the Declaration of Independence signed?   \n",
       "4      There are 10 types of people in this world...   \n",
       "5     Why did the developer go broke buying Bitcoin?   \n",
       "6  Knock knock. \\n Who's there? \\n Hatch. \\n Hatc...   \n",
       "7        Why do trees seem suspicious on sunny days?   \n",
       "8                Why did the man run around his bed?   \n",
       "9                        Want to hear my pizza joke?   \n",
       "\n",
       "                                         punchline  \n",
       "0                       They're really good at it.  \n",
       "1                                       Lean beef.  \n",
       "2                                       Pop music!  \n",
       "3                                  At the bottom!   \n",
       "4  Those who understand binary and those who don't  \n",
       "5  He kept calling it bytecoin and didn't get any.  \n",
       "6                                       Bless you!  \n",
       "7                 Dunno, they're just a bit shady.  \n",
       "8  Because he was trying to catch up on his sleep!  \n",
       "9                     Never mind, it's too cheesy.  "
      ]
     },
     "execution_count": 38,
     "metadata": {},
     "output_type": "execute_result"
    }
   ],
   "source": [
    "# Write your code here\n",
    "df=pd.DataFrame(json.loads(r.text))\n",
    "df.drop(columns=['id','type'],inplace=True)\n",
    "df"
   ]
  },
  {
   "cell_type": "markdown",
   "id": "a1c0dc3d-1a0d-468d-9472-b1a86d1bb230",
   "metadata": {},
   "source": [
    "<details><summary>Click here for the solution</summary>\n",
    "\n",
    "```python\n",
    "df3 = pd.DataFrame(results2)\n",
    "df3.drop(columns=[\"type\",\"id\"],inplace=True)\n",
    "df3\n",
    "```\n",
    "\n",
    "</details>\n"
   ]
  },
  {
   "cell_type": "markdown",
   "id": "d18fa720-1e4f-412c-83b4-ca09da2266d0",
   "metadata": {},
   "source": [
    "# Congratulations! - You have completed the lab\n"
   ]
  },
  {
   "cell_type": "markdown",
   "id": "4d2cbd08-2095-4ee5-9ebe-487702a907aa",
   "metadata": {},
   "source": [
    "## Author\n",
    "<a href=\"https://www.linkedin.com/in/svitlana-kramar\" target=\"_blank\">Svitlana Kramar</a>\n",
    "\n",
    "Svitlana is a master’s degree Data Science and Analytics student at University of Calgary, who enjoys travelling, learning new languages and cultures and loves spreading her passion for Data Science.\n",
    "\n",
    "## Additional Contributor\n",
    "<a href=\"https://www.linkedin.com/in/abhishek-gagneja-23051987/\" target=\"_blank\">Abhishek Gagneja</a>\n"
   ]
  },
  {
   "cell_type": "markdown",
   "id": "3ac85d1f-a634-40ab-843f-1fc98c2e65eb",
   "metadata": {},
   "source": [
    "Copyright © 2023 IBM Corporation. All rights reserved.\n"
   ]
  }
 ],
 "metadata": {
  "kernelspec": {
   "display_name": "Python 3",
   "language": "python",
   "name": "python3"
  },
  "language_info": {
   "codemirror_mode": {
    "name": "ipython",
    "version": 3
   },
   "file_extension": ".py",
   "mimetype": "text/x-python",
   "name": "python",
   "nbconvert_exporter": "python",
   "pygments_lexer": "ipython3",
   "version": "3.8.3"
  }
 },
 "nbformat": 4,
 "nbformat_minor": 4
}
