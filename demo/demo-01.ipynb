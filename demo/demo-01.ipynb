{
 "cells": [
  {
   "cell_type": "markdown",
   "metadata": {},
   "source": [
    "# Hello MBA 540\n",
    "\n",
    "This is a Jupyter Notebook running Python.\n",
    "\n",
    "This demo scrapes data tables from Corporate Knights into an Excel file.\n",
    "\n",
    "The code below is Python, which queries the web page, finds the table, and outputs it to screen, save it to an Excel file."
   ]
  },
  {
   "cell_type": "markdown",
   "metadata": {},
   "source": [
    "First we install the required Python modules."
   ]
  },
  {
   "cell_type": "code",
   "execution_count": null,
   "metadata": {},
   "outputs": [],
   "source": [
    "# First we import the request module.\n",
    "# A module is a piece of software that we can use with Python. \n",
    "# Just like you can use Google Chrome with a mouse and keyboard, you can use the requests module with Python.\n",
    "%pip install requests\n",
    "import requests\n",
    "\n",
    "# Next we import the pandas module.\n",
    "# The pandas module allows us to work with data.\n",
    "# Just like you can use Microsoft Excel with a mouse and keyboard, you can use the pandas module with Python.\n",
    "%pip install pandas\n",
    "import pandas\n"
   ]
  },
  {
   "cell_type": "markdown",
   "metadata": {},
   "source": [
    "Next we fetch the web page from Corporate Knights."
   ]
  },
  {
   "cell_type": "code",
   "execution_count": null,
   "metadata": {},
   "outputs": [],
   "source": [
    "# Now we create a variable to store the address of the webpage that we want to access.\n",
    "# This is the same webpage address that we would put into the Chrome address bar.\n",
    "url = 'https://www.corporateknights.com/issues/2025-01-global-100-issue/100-most-sustainable-companies-still-betting-greener-world/'\n",
    "\n",
    "# Next we pass that addres to the requests.get() function.\n",
    "# This is the same as passing the address to the Chrome address bar and pressing enter.\n",
    "response = requests.get(url);\n",
    "\n",
    "# We now store that text in a variable called \"html\".\n",
    "htmlText = response.text;\n",
    "\n",
    "# The text is the same as what we would see if we chose \"View Page Source\" in Chrome.\n",
    "print(htmlText)"
   ]
  },
  {
   "cell_type": "markdown",
   "metadata": {},
   "source": [
    "In the last code block, we requested HTML from a web page.\n",
    "\n",
    "That HTML isn't very useful to us as it is, because it is full of content we do not want.\n",
    "\n",
    "In the next code cell, we use Pandas to extract the tabular data."
   ]
  },
  {
   "cell_type": "code",
   "execution_count": null,
   "metadata": {},
   "outputs": [],
   "source": [
    "# Here we read the html text into the Pandas system.\n",
    "# This is similar to opening a file in Excel.\n",
    "tables = pandas.read_html(str(htmlText))\n",
    "\n",
    "# Now we output the first five rows of the first table we found on the webpage.\n",
    "tables[0].iloc[0:5]"
   ]
  },
  {
   "cell_type": "code",
   "execution_count": null,
   "metadata": {},
   "outputs": [],
   "source": [
    "# We note that the last three columns are not named... they are just empty.\n",
    "# We also note that the first column is just an incrementing number. \n",
    "tables[0].iloc[0:5, 0:13]"
   ]
  },
  {
   "cell_type": "code",
   "execution_count": 14,
   "metadata": {},
   "outputs": [],
   "source": [
    "# Create a new Excel file and write the first 13 columns of the first table to it.\n",
    "# The index=False means that we don't want to include the row numbers.\n",
    "tables[0].iloc[:, 0:13].to_excel(\"demo-01-output-again.xlsx\", sheet_name=\"Corporate Knights 2025 - Again\",index=False)"
   ]
  }
 ],
 "metadata": {
  "kernelspec": {
   "display_name": "Python 3",
   "language": "python",
   "name": "python3"
  },
  "language_info": {
   "codemirror_mode": {
    "name": "ipython",
    "version": 3
   },
   "file_extension": ".py",
   "mimetype": "text/x-python",
   "name": "python",
   "nbconvert_exporter": "python",
   "pygments_lexer": "ipython3",
   "version": "3.8.3"
  }
 },
 "nbformat": 4,
 "nbformat_minor": 2
}
