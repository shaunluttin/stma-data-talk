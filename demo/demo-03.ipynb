{
 "cells": [
  {
   "cell_type": "markdown",
   "metadata": {},
   "source": [
    "# Hello MBA 540\n",
    "\n",
    "Now lets go slightly further by wrapping the web scraping code in a function.\n",
    "\n",
    "Then we will call the function four times with four different web addresses.\n",
    "\n",
    "This lets us _reuse_ the same routine to scrape similar data from four different web pages.\n"
   ]
  },
  {
   "cell_type": "code",
   "execution_count": 14,
   "metadata": {},
   "outputs": [
    {
     "name": "stdout",
     "output_type": "stream",
     "text": [
      "Requirement already satisfied: requests in c:\\python38\\lib\\site-packages (2.32.3)\n",
      "Requirement already satisfied: urllib3<3,>=1.21.1 in c:\\python38\\lib\\site-packages (from requests) (2.2.3)\n",
      "Requirement already satisfied: idna<4,>=2.5 in c:\\python38\\lib\\site-packages (from requests) (3.4)\n",
      "Requirement already satisfied: charset-normalizer<4,>=2 in c:\\python38\\lib\\site-packages (from requests) (3.4.1)\n",
      "Requirement already satisfied: certifi>=2017.4.17 in c:\\python38\\lib\\site-packages (from requests) (2024.12.14)\n",
      "Note: you may need to restart the kernel to use updated packages.\n"
     ]
    },
    {
     "name": "stderr",
     "output_type": "stream",
     "text": [
      "WARNING: You are using pip version 19.2.3, however version 25.0.1 is available.\n",
      "You should consider upgrading via the 'python -m pip install --upgrade pip' command.\n"
     ]
    },
    {
     "name": "stdout",
     "output_type": "stream",
     "text": [
      "Note: you may need to restart the kernel to use updated packages.Requirement already satisfied: pandas in c:\\python38\\lib\\site-packages (2.0.3)\n",
      "Requirement already satisfied: pytz>=2020.1 in c:\\python38\\lib\\site-packages (from pandas) (2025.1)\n",
      "Requirement already satisfied: python-dateutil>=2.8.2 in c:\\python38\\lib\\site-packages (from pandas) (2.8.2)\n",
      "Requirement already satisfied: tzdata>=2022.1 in c:\\python38\\lib\\site-packages (from pandas) (2025.1)\n",
      "Requirement already satisfied: numpy>=1.20.3; python_version < \"3.10\" in c:\\python38\\lib\\site-packages (from pandas) (1.24.1)\n",
      "Requirement already satisfied: six>=1.5 in c:\\python38\\lib\\site-packages (from python-dateutil>=2.8.2->pandas) (1.16.0)\n",
      "\n"
     ]
    },
    {
     "name": "stderr",
     "output_type": "stream",
     "text": [
      "WARNING: You are using pip version 19.2.3, however version 25.0.1 is available.\n",
      "You should consider upgrading via the 'python -m pip install --upgrade pip' command.\n",
      "WARNING: You are using pip version 19.2.3, however version 25.0.1 is available.\n",
      "You should consider upgrading via the 'python -m pip install --upgrade pip' command.\n"
     ]
    },
    {
     "name": "stdout",
     "output_type": "stream",
     "text": [
      "Requirement already satisfied: openpyxl in c:\\python38\\lib\\site-packages (3.1.5)\n",
      "Requirement already satisfied: et-xmlfile in c:\\python38\\lib\\site-packages (from openpyxl) (2.0.0)\n",
      "Note: you may need to restart the kernel to use updated packages.\n"
     ]
    }
   ],
   "source": [
    "%pip install requests\n",
    "%pip install pandas\n",
    "%pip install openpyxl\n",
    "\n",
    "import requests\n",
    "import pandas\n",
    "import openpyxl\n",
    "import os\n",
    "\n",
    "# 1. Query a corporate knights page.\n",
    "# 2. Scrape the first table from the html text.\n",
    "# 3. Extract only the first 13 columns.\n",
    "# 4. Append the data as a new sheet into the Excel file.\n",
    "def scrapeCorporateKnightsTop100IntoAnExistingExcelFile(excelFileName, newSheetName, webAddress):\n",
    "    response = requests.get(webAddress);\n",
    "    htmlText = response.text;\n",
    "    tables = pandas.read_html(str(htmlText))\n",
    "    targetData = tables[0].iloc[:, 0:13]\n",
    "\n",
    "    # Create the excel file if it does not already exist.\n",
    "    if os.path.exists(excelFileName) == False:\n",
    "        openpyxl.Workbook().save(excelFileName)\n",
    "\n",
    "    with pandas.ExcelWriter(excelFileName, engine='openpyxl', mode='a', if_sheet_exists='overlay') as writer:\n",
    "        targetData.to_excel(writer, sheet_name=newSheetName, index=False)\n",
    "\n",
    "# Now we can call this function with the URL, the Excel file name, and the sheet name.\n",
    "excelFileName = 'my-excel-file-01.xlsx'\n",
    "scrapeCorporateKnightsTop100IntoAnExistingExcelFile(excelFileName, '2025', 'https://www.corporateknights.com/issues/2025-01-global-100-issue/100-most-sustainable-companies-still-betting-greener-world/')\n",
    "scrapeCorporateKnightsTop100IntoAnExistingExcelFile(excelFileName, '2024', 'https://www.corporateknights.com/rankings/global-100-rankings/2024-global-100-rankings/the-20th-annual-global-100/')\n",
    "scrapeCorporateKnightsTop100IntoAnExistingExcelFile(excelFileName, '2023', 'https://www.corporateknights.com/rankings/global-100-rankings/2023-global-100-rankings/2023-global-100-most-sustainable-companies/')\n",
    "scrapeCorporateKnightsTop100IntoAnExistingExcelFile(excelFileName, '2022', 'https://www.corporateknights.com/rankings/global-100-rankings/2022-global-100-rankings/100-most-sustainable-corporations-of-2022/')\n"
   ]
  }
 ],
 "metadata": {
  "kernelspec": {
   "display_name": "Python 3",
   "language": "python",
   "name": "python3"
  },
  "language_info": {
   "codemirror_mode": {
    "name": "ipython",
    "version": 3
   },
   "file_extension": ".py",
   "mimetype": "text/x-python",
   "name": "python",
   "nbconvert_exporter": "python",
   "pygments_lexer": "ipython3",
   "version": "3.8.3"
  }
 },
 "nbformat": 4,
 "nbformat_minor": 2
}
