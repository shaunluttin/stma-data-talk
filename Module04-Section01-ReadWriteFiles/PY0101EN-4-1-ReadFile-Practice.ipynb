{
 "cells": [
  {
   "cell_type": "code",
   "execution_count": 12,
   "metadata": {},
   "outputs": [
    {
     "name": "stdout",
     "output_type": "stream",
     "text": [
      "r\n",
      "file.txt\n",
      "Foo\n",
      "Bar \n",
      "Baz\n"
     ]
    }
   ],
   "source": [
    "# Open a file\n",
    "file = open('file.txt', 'r')\n",
    "\n",
    "print(file.mode)\n",
    "print(file.name)\n",
    "\n",
    "print(file.read())\n",
    "\n",
    "file.close()"
   ]
  },
  {
   "cell_type": "code",
   "execution_count": 14,
   "metadata": {},
   "outputs": [
    {
     "name": "stdout",
     "output_type": "stream",
     "text": [
      "r\n",
      "file.txt\n",
      "Foo\n",
      "Bar \n",
      "Baz\n"
     ]
    }
   ],
   "source": [
    "# Open a file using with statement\n",
    "with open('file.txt', 'r') as file:\n",
    "    print(file.mode)\n",
    "    print(file.name)\n",
    "    print(file.read())\n",
    "    "
   ]
  }
 ],
 "metadata": {
  "kernelspec": {
   "display_name": "Python 3",
   "language": "python",
   "name": "python3"
  },
  "language_info": {
   "codemirror_mode": {
    "name": "ipython",
    "version": 3
   },
   "file_extension": ".py",
   "mimetype": "text/x-python",
   "name": "python",
   "nbconvert_exporter": "python",
   "pygments_lexer": "ipython3",
   "version": "3.8.3"
  },
  "prev_pub_hash": "655b621b6e5114470ea7626e8512bba78e15820fa058079df5fbd6fdb891a9d9"
 },
 "nbformat": 4,
 "nbformat_minor": 4
}
